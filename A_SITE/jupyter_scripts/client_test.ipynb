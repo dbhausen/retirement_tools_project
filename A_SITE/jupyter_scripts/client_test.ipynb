{
 "cells": [
  {
   "cell_type": "code",
   "execution_count": 3,
   "metadata": {},
   "outputs": [],
   "source": [
    "import django_initializer\n"
   ]
  },
  {
   "cell_type": "code",
   "execution_count": 4,
   "metadata": {},
   "outputs": [
    {
     "name": "stdout",
     "output_type": "stream",
     "text": [
      "No test environment to teardown\n"
     ]
    }
   ],
   "source": [
    "from django.test.utils import setup_test_environment, teardown_test_environment\n",
    "from django.test import Client\n",
    "from django.urls import reverse\n",
    "try:\n",
    "  teardown_test_environment()\n",
    "except:\n",
    "  print('No test environment to teardown')\n",
    "\n",
    "setup_test_environment()\n",
    "client = Client()"
   ]
  },
  {
   "cell_type": "code",
   "execution_count": 5,
   "metadata": {},
   "outputs": [
    {
     "name": "stderr",
     "output_type": "stream",
     "text": [
      "Not Found: /\n"
     ]
    },
    {
     "data": {
      "text/plain": [
       "b'<!DOCTYPE html>\\n<html>\\n  <head>\\n    <meta charset=\"utf-8\" />\\n    <title>My home page</title>\\n  </head>\\n  <body>\\n    \\n    <ul>\\n      \\n      <li>\\n        <a href=\"/polls/2/\"\\n          >other question 2nd</a\\n        >\\n      </li>\\n      \\n      <li>\\n        <a href=\"/polls/3/\"\\n          >;lk;lk</a\\n        >\\n      </li>\\n      \\n      <li>\\n        <a href=\"/polls/4/\"\\n          >jjjj</a\\n        >\\n      </li>\\n      \\n      <li>\\n        <a href=\"/polls/5/\"\\n          >ooooo</a\\n        >\\n      </li>\\n      \\n      <li>\\n        <a href=\"/polls/6/\"\\n          >last (6th) question</a\\n        >\\n      </li>\\n      \\n    </ul>\\n    \\n  </body>\\n</html>\\n'"
      ]
     },
     "execution_count": 5,
     "metadata": {},
     "output_type": "execute_result"
    }
   ],
   "source": [
    "\n",
    "response = client.get(reverse('annuity_app:index'))\n",
    "response.status_code\n",
    "response.content\n",
    "\n"
   ]
  }
 ],
 "metadata": {
  "interpreter": {
   "hash": "96a1c6ef0fd1d219d272a0da3b9be8421e85b918d9e62a37e7fd2400291b3de8"
  },
  "kernelspec": {
   "display_name": "Python 3.10.2 64-bit ('.env310': venv)",
   "language": "python",
   "name": "python3"
  },
  "language_info": {
   "codemirror_mode": {
    "name": "ipython",
    "version": 3
   },
   "file_extension": ".py",
   "mimetype": "text/x-python",
   "name": "python",
   "nbconvert_exporter": "python",
   "pygments_lexer": "ipython3",
   "version": "3.10.2"
  },
  "orig_nbformat": 4
 },
 "nbformat": 4,
 "nbformat_minor": 2
}
