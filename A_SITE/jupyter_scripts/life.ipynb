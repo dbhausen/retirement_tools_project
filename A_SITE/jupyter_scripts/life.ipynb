{
 "cells": [
  {
   "cell_type": "code",
   "execution_count": 2,
   "metadata": {},
   "outputs": [
    {
     "name": "stdout",
     "output_type": "stream",
     "text": [
      "Instance of <class 'snippets.life.Person'>\n",
      "    doc: An individual for purposes of annuity calculations\n",
      "   dict: {\"name\": \"David\", \"sex\": \"Male\", \"age\": 65}\n",
      "Instance of <class 'snippets.life.Person'>\n",
      "    doc: An individual for purposes of annuity calculations\n",
      "   dict: {\"name\": \"Barb\", \"sex\": \"Female\", \"age\": 66}\n",
      "david life expectancy: 82.89\n",
      "barb life expectancy : 85.65\n",
      "Instance of <class 'snippets.life.Couple'>\n",
      "    doc: A married couple for purposes of annuity calculations\n",
      "dict: person1: {\"name\": \"David\", \"sex\": \"Male\", \"age\": 65}\n",
      "      person2: {\"name\": \"Barb\", \"sex\": \"Female\", \"age\": 66}\n"
     ]
    },
    {
     "ename": "ValueError",
     "evalue": "Target age must be an int grater than or equal 65 and less than 119",
     "output_type": "error",
     "traceback": [
      "\u001b[1;31m---------------------------------------------------------------------------\u001b[0m",
      "\u001b[1;31mValueError\u001b[0m                                Traceback (most recent call last)",
      "\u001b[1;32mc:\\Users\\david\\P2\\retirement_tools_project\\A_SITE\\jupyter_scripts\\life.ipynb Cell 1'\u001b[0m in \u001b[0;36m<module>\u001b[1;34m\u001b[0m\n\u001b[0;32m     <a href='vscode-notebook-cell:/c%3A/Users/david/P2/retirement_tools_project/A_SITE/jupyter_scripts/life.ipynb#ch0000001?line=14'>15</a>\u001b[0m us \u001b[39m=\u001b[39m Couple(me,barb)\n\u001b[0;32m     <a href='vscode-notebook-cell:/c%3A/Users/david/P2/retirement_tools_project/A_SITE/jupyter_scripts/life.ipynb#ch0000001?line=15'>16</a>\u001b[0m \u001b[39mprint\u001b[39m(us)\n\u001b[1;32m---> <a href='vscode-notebook-cell:/c%3A/Users/david/P2/retirement_tools_project/A_SITE/jupyter_scripts/life.ipynb#ch0000001?line=17'>18</a>\u001b[0m \u001b[39mprint\u001b[39m (\u001b[39m\"\u001b[39m\u001b[39mNeither reaching \u001b[39m\u001b[39m\"\u001b[39m \u001b[39m+\u001b[39m \u001b[39mstr\u001b[39m(target_age) \u001b[39m+\u001b[39m \u001b[39m\"\u001b[39m\u001b[39m     : \u001b[39m\u001b[39m\"\u001b[39m\u001b[39m+\u001b[39m \u001b[39mstr\u001b[39m(us\u001b[39m.\u001b[39;49mget_probability_of_neither_reaching_target_age(target_age)))\n\u001b[0;32m     <a href='vscode-notebook-cell:/c%3A/Users/david/P2/retirement_tools_project/A_SITE/jupyter_scripts/life.ipynb#ch0000001?line=18'>19</a>\u001b[0m \u001b[39mprint\u001b[39m (\u001b[39m\"\u001b[39m\u001b[39mAt least one reaching \u001b[39m\u001b[39m\"\u001b[39m \u001b[39m+\u001b[39m \u001b[39mstr\u001b[39m(target_age) \u001b[39m+\u001b[39m \u001b[39m\"\u001b[39m\u001b[39m: \u001b[39m\u001b[39m\"\u001b[39m\u001b[39m+\u001b[39m \u001b[39mstr\u001b[39m(us\u001b[39m.\u001b[39mget_probability_of_at_least_one_reaching_target_age(target_age)))\n\u001b[0;32m     <a href='vscode-notebook-cell:/c%3A/Users/david/P2/retirement_tools_project/A_SITE/jupyter_scripts/life.ipynb#ch0000001?line=19'>20</a>\u001b[0m \u001b[39mprint\u001b[39m (\u001b[39m\"\u001b[39m\u001b[39mboth reaching \u001b[39m\u001b[39m\"\u001b[39m \u001b[39m+\u001b[39m \u001b[39mstr\u001b[39m(target_age) \u001b[39m+\u001b[39m \u001b[39m\"\u001b[39m\u001b[39m        : \u001b[39m\u001b[39m\"\u001b[39m\u001b[39m+\u001b[39m \u001b[39mstr\u001b[39m(us\u001b[39m.\u001b[39mget_probability_of_both_reaching_target_age(target_age)))\n",
      "File \u001b[1;32mc:\\Users\\david\\P2\\retirement_tools_project\\A_SITE\\snippets\\life.py:261\u001b[0m, in \u001b[0;36mCouple.get_probability_of_neither_reaching_target_age\u001b[1;34m(self, target_age)\u001b[0m\n\u001b[0;32m    <a href='file:///c%3A/Users/david/P2/retirement_tools_project/A_SITE/snippets/life.py?line=258'>259</a>\u001b[0m \u001b[39mdef\u001b[39;00m \u001b[39mget_probability_of_neither_reaching_target_age\u001b[39m(\u001b[39mself\u001b[39m, target_age: \u001b[39mint\u001b[39m) \u001b[39m-\u001b[39m\u001b[39m>\u001b[39m \u001b[39mfloat\u001b[39m:\n\u001b[0;32m    <a href='file:///c%3A/Users/david/P2/retirement_tools_project/A_SITE/snippets/life.py?line=259'>260</a>\u001b[0m     \u001b[39m\"\"\"Returns the probablity that neither one of this couple will reach target age.\"\"\"\u001b[39;00m\n\u001b[1;32m--> <a href='file:///c%3A/Users/david/P2/retirement_tools_project/A_SITE/snippets/life.py?line=260'>261</a>\u001b[0m     \u001b[39mself\u001b[39;49m\u001b[39m.\u001b[39;49mperson1\u001b[39m.\u001b[39;49mvalidate_target_age(target_age)\n\u001b[0;32m    <a href='file:///c%3A/Users/david/P2/retirement_tools_project/A_SITE/snippets/life.py?line=261'>262</a>\u001b[0m     \u001b[39mself\u001b[39m\u001b[39m.\u001b[39mperson2\u001b[39m.\u001b[39mvalidate_target_age(target_age)\n\u001b[0;32m    <a href='file:///c%3A/Users/david/P2/retirement_tools_project/A_SITE/snippets/life.py?line=262'>263</a>\u001b[0m     \u001b[39mreturn\u001b[39;00m \u001b[39mself\u001b[39m\u001b[39m.\u001b[39mperson1\u001b[39m.\u001b[39mget_probability_of_death_by_age(\n\u001b[0;32m    <a href='file:///c%3A/Users/david/P2/retirement_tools_project/A_SITE/snippets/life.py?line=263'>264</a>\u001b[0m         target_age\n\u001b[0;32m    <a href='file:///c%3A/Users/david/P2/retirement_tools_project/A_SITE/snippets/life.py?line=264'>265</a>\u001b[0m     ) \u001b[39m*\u001b[39m \u001b[39mself\u001b[39m\u001b[39m.\u001b[39mperson2\u001b[39m.\u001b[39mget_probability_of_death_by_age(target_age)\n",
      "File \u001b[1;32mc:\\Users\\david\\P2\\retirement_tools_project\\A_SITE\\snippets\\life.py:192\u001b[0m, in \u001b[0;36mPerson.validate_target_age\u001b[1;34m(self, target_age)\u001b[0m\n\u001b[0;32m    <a href='file:///c%3A/Users/david/P2/retirement_tools_project/A_SITE/snippets/life.py?line=189'>190</a>\u001b[0m     rtval \u001b[39m=\u001b[39m \u001b[39mself\u001b[39m\u001b[39m.\u001b[39mage \u001b[39m<\u001b[39m\u001b[39m=\u001b[39m target_age \u001b[39m<\u001b[39m \u001b[39m119\u001b[39m\n\u001b[0;32m    <a href='file:///c%3A/Users/david/P2/retirement_tools_project/A_SITE/snippets/life.py?line=190'>191</a>\u001b[0m \u001b[39mif\u001b[39;00m \u001b[39mnot\u001b[39;00m rtval:\n\u001b[1;32m--> <a href='file:///c%3A/Users/david/P2/retirement_tools_project/A_SITE/snippets/life.py?line=191'>192</a>\u001b[0m     \u001b[39mraise\u001b[39;00m \u001b[39mValueError\u001b[39;00m(\n\u001b[0;32m    <a href='file:///c%3A/Users/david/P2/retirement_tools_project/A_SITE/snippets/life.py?line=192'>193</a>\u001b[0m         \u001b[39m\"\u001b[39m\u001b[39mTarget age must be an int grater than or equal \u001b[39m\u001b[39m\"\u001b[39m\n\u001b[0;32m    <a href='file:///c%3A/Users/david/P2/retirement_tools_project/A_SITE/snippets/life.py?line=193'>194</a>\u001b[0m         \u001b[39m+\u001b[39m \u001b[39mstr\u001b[39m(\u001b[39mself\u001b[39m\u001b[39m.\u001b[39mage)\n\u001b[0;32m    <a href='file:///c%3A/Users/david/P2/retirement_tools_project/A_SITE/snippets/life.py?line=194'>195</a>\u001b[0m         \u001b[39m+\u001b[39m \u001b[39m\"\u001b[39m\u001b[39m and less than 119\u001b[39m\u001b[39m\"\u001b[39m\n\u001b[0;32m    <a href='file:///c%3A/Users/david/P2/retirement_tools_project/A_SITE/snippets/life.py?line=195'>196</a>\u001b[0m     )\n",
      "\u001b[1;31mValueError\u001b[0m: Target age must be an int grater than or equal 65 and less than 119"
     ]
    }
   ],
   "source": [
    "import django_initializer\n",
    "from snippets.life import Life, Person, Couple\n",
    "\n",
    "target_age=85.8\n",
    "david_age=65\n",
    "barb_age=66\n",
    "\n",
    "me = Person(\"David\",\"Male\",david_age)\n",
    "barb = Person(\"Barb\",Life.FEMALE,barb_age)\n",
    "print(me)\n",
    "print(barb)\n",
    "print(\"david life expectancy: \" + str(me.get_life_expectancy()))\n",
    "print(\"barb life expectancy : \" + str(barb.get_life_expectancy()))\n",
    "\n",
    "us = Couple(me,barb)\n",
    "print(us)\n",
    "\n",
    "print (\"Neither reaching \" + str(target_age) + \"     : \"+ str(us.get_probability_of_neither_reaching_target_age(target_age)))\n",
    "print (\"At least one reaching \" + str(target_age) + \": \"+ str(us.get_probability_of_at_least_one_reaching_target_age(target_age)))\n",
    "print (\"both reaching \" + str(target_age) + \"        : \"+ str(us.get_probability_of_both_reaching_target_age(target_age)))\n",
    "\n",
    "print (\"Exactly one reaching \" + str(target_age) + \" : \"+ str(us.get_probability_of_exactly_one_reaching_target_age(target_age)))\n",
    "\n",
    "\n",
    "\n",
    "\n"
   ]
  }
 ],
 "metadata": {
  "interpreter": {
   "hash": "96a1c6ef0fd1d219d272a0da3b9be8421e85b918d9e62a37e7fd2400291b3de8"
  },
  "kernelspec": {
   "display_name": "Python 3.10.2 64-bit ('.env310': venv)",
   "language": "python",
   "name": "python3"
  },
  "language_info": {
   "codemirror_mode": {
    "name": "ipython",
    "version": 3
   },
   "file_extension": ".py",
   "mimetype": "text/x-python",
   "name": "python",
   "nbconvert_exporter": "python",
   "pygments_lexer": "ipython3",
   "version": "3.10.2"
  },
  "orig_nbformat": 4
 },
 "nbformat": 4,
 "nbformat_minor": 2
}
