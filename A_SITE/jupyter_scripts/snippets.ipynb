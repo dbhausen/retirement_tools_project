{
 "cells": [
  {
   "cell_type": "code",
   "execution_count": null,
   "metadata": {},
   "outputs": [],
   "source": [
    "import django_initializer"
   ]
  },
  {
   "cell_type": "code",
   "execution_count": 1,
   "metadata": {},
   "outputs": [
    {
     "ename": "ModuleNotFoundError",
     "evalue": "No module named 'snippets'",
     "output_type": "error",
     "traceback": [
      "\u001b[1;31m---------------------------------------------------------------------------\u001b[0m",
      "\u001b[1;31mModuleNotFoundError\u001b[0m                       Traceback (most recent call last)",
      "\u001b[1;32mc:\\Users\\david\\P2\\retirement_tools_project\\A_SITE\\jupyter_scripts\\snippets.ipynb Cell 2\u001b[0m in \u001b[0;36m<module>\u001b[1;34m\u001b[0m\n\u001b[1;32m----> <a href='vscode-notebook-cell:/c%3A/Users/david/P2/retirement_tools_project/A_SITE/jupyter_scripts/snippets.ipynb#W1sZmlsZQ%3D%3D?line=0'>1</a>\u001b[0m \u001b[39mfrom\u001b[39;00m \u001b[39msnippets\u001b[39;00m\u001b[39m.\u001b[39;00m\u001b[39mmodels\u001b[39;00m \u001b[39mimport\u001b[39;00m Snippet\n\u001b[0;32m      <a href='vscode-notebook-cell:/c%3A/Users/david/P2/retirement_tools_project/A_SITE/jupyter_scripts/snippets.ipynb#W1sZmlsZQ%3D%3D?line=1'>2</a>\u001b[0m \u001b[39mfrom\u001b[39;00m \u001b[39msnippets\u001b[39;00m\u001b[39m.\u001b[39;00m\u001b[39mserializers\u001b[39;00m \u001b[39mimport\u001b[39;00m SnippetSerializer\n\u001b[0;32m      <a href='vscode-notebook-cell:/c%3A/Users/david/P2/retirement_tools_project/A_SITE/jupyter_scripts/snippets.ipynb#W1sZmlsZQ%3D%3D?line=2'>3</a>\u001b[0m \u001b[39mfrom\u001b[39;00m \u001b[39mrest_framework\u001b[39;00m\u001b[39m.\u001b[39;00m\u001b[39mrenderers\u001b[39;00m \u001b[39mimport\u001b[39;00m JSONRenderer\n",
      "\u001b[1;31mModuleNotFoundError\u001b[0m: No module named 'snippets'"
     ]
    }
   ],
   "source": [
    "from snippets.models import Snippet\n",
    "from snippets.serializers import SnippetSerializer\n",
    "from rest_framework.renderers import JSONRenderer\n",
    "from rest_framework.parsers import JSONParser\n",
    "\n",
    "snippet = Snippet(code='foo = \"bar\"\\n',title='fish')\n",
    "snippet.save()\n"
   ]
  },
  {
   "cell_type": "code",
   "execution_count": null,
   "metadata": {},
   "outputs": [],
   "source": [
    "serializer = SnippetSerializer(snippet)\n",
    "serializer.data"
   ]
  },
  {
   "cell_type": "code",
   "execution_count": null,
   "metadata": {},
   "outputs": [],
   "source": [
    "content = JSONRenderer().render(serializer.data)\n",
    "content"
   ]
  },
  {
   "cell_type": "code",
   "execution_count": null,
   "metadata": {},
   "outputs": [],
   "source": [
    "import io\n",
    "\n",
    "stream = io.BytesIO(content)\n",
    "data = JSONParser().parse(stream)"
   ]
  },
  {
   "cell_type": "code",
   "execution_count": null,
   "metadata": {},
   "outputs": [],
   "source": [
    "serializer = SnippetSerializer(data=data)\n",
    "serializer.is_valid()\n",
    "# True\n",
    "serializer.validated_data\n",
    "# OrderedDict([('title', ''), ('code', 'print(\"hello, world\")\\n'), ('linenos', False), ('language', 'python'), ('style', 'friendly')])\n",
    "serializer.save()\n",
    "# <Snippet: Snippet object>"
   ]
  },
  {
   "cell_type": "code",
   "execution_count": null,
   "metadata": {},
   "outputs": [],
   "source": [
    "serializer.validated_data"
   ]
  },
  {
   "cell_type": "code",
   "execution_count": null,
   "metadata": {},
   "outputs": [],
   "source": [
    "serializer = SnippetSerializer()\n",
    "print(repr(serializer))"
   ]
  }
 ],
 "metadata": {
  "interpreter": {
   "hash": "96a1c6ef0fd1d219d272a0da3b9be8421e85b918d9e62a37e7fd2400291b3de8"
  },
  "kernelspec": {
   "display_name": "Python 3.10.2 64-bit ('.env310': venv)",
   "language": "python",
   "name": "python3"
  },
  "language_info": {
   "codemirror_mode": {
    "name": "ipython",
    "version": 3
   },
   "file_extension": ".py",
   "mimetype": "text/x-python",
   "name": "python",
   "nbconvert_exporter": "python",
   "pygments_lexer": "ipython3",
   "version": "3.10.2"
  },
  "orig_nbformat": 4
 },
 "nbformat": 4,
 "nbformat_minor": 2
}
