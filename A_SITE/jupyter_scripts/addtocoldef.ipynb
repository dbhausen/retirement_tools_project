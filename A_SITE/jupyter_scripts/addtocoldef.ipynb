{
 "cells": [
  {
   "cell_type": "code",
   "execution_count": 14,
   "metadata": {},
   "outputs": [
    {
     "name": "stdout",
     "output_type": "stream",
     "text": [
      "{'a': 1, 'b': 200, 'c': 'some new thing'}\n"
     ]
    }
   ],
   "source": [
    "dict_example = {'a': 1, 'b': 2}\n",
    "dict_update = { 'b': 200,'c': 'some new thing'}\n",
    "\n",
    "for key in dict_update:\n",
    "   dict_example[key]=dict_update[key]\n",
    "\n",
    "print (dict_example)\n"
   ]
  },
  {
   "cell_type": "code",
   "execution_count": 20,
   "metadata": {},
   "outputs": [
    {
     "name": "stdout",
     "output_type": "stream",
     "text": [
      "The original dictionary 1 is : {'gfg': 1, 'best': 2, 'for': 4, 'geeks': 6}\n",
      "The original dictionary 2 is : {'for': 3, 'geeks': 5}\n",
      "{'gfg': 1, 'best': 2, 'for': 4, 'geeks': 6}\n",
      "{'gfg': 1, 'best': 2, 'for': 3, 'geeks': 5}\n",
      "{'gfg': 1, 'best': 2, 'for': 3, 'geeks': 5}\n"
     ]
    }
   ],
   "source": [
    "# Python3 code to demonstrate working of\n",
    "# Update dictionary with other dictionary\n",
    "# Using dictionary comprehension\n",
    "\n",
    "# initializing dictionaries\n",
    "test_dict1 = {'gfg': 1, 'best': 2, 'for': 4, 'geeks': 6}\n",
    "test_dict2 = {'for': 3, 'geeks': 5}\n",
    "\n",
    "# printing original dictionaries\n",
    "print(\"The original dictionary 1 is : \" + str(test_dict1))\n",
    "print(\"The original dictionary 2 is : \" + str(test_dict2))\n",
    "\n",
    "# Update dictionary with other dictionary\n",
    "# Using dictionary comprehension\n",
    "print(test_dict1)\n",
    "res = {key: test_dict2.get(key, val) for key, val in test_dict1.items()}\n",
    "\n",
    "# printing result\n",
    "print(res)\n",
    "\n",
    "test_dict1.update(test_dict2)\n",
    "\n",
    "print(test_dict1)\n"
   ]
  }
 ],
 "metadata": {
  "kernelspec": {
   "display_name": ".env310",
   "language": "python",
   "name": "python3"
  },
  "language_info": {
   "codemirror_mode": {
    "name": "ipython",
    "version": 3
   },
   "file_extension": ".py",
   "mimetype": "text/x-python",
   "name": "python",
   "nbconvert_exporter": "python",
   "pygments_lexer": "ipython3",
   "version": "3.10.2"
  },
  "orig_nbformat": 4
 },
 "nbformat": 4,
 "nbformat_minor": 2
}
